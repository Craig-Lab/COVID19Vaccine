{
 "cells": [
  {
   "cell_type": "code",
   "execution_count": 1,
   "id": "5018d261",
   "metadata": {},
   "outputs": [
    {
     "name": "stderr",
     "output_type": "stream",
     "text": [
      "/Users/dengxiaoyan/opt/anaconda3/lib/python3.9/site-packages/scipy/__init__.py:146: UserWarning: A NumPy version >=1.16.5 and <1.23.0 is required for this version of SciPy (detected version 1.26.4\n",
      "  warnings.warn(f\"A NumPy version >={np_minversion} and <{np_maxversion}\"\n"
     ]
    }
   ],
   "source": [
    "import numpy as np\n",
    "import pandas as pd\n",
    "import matplotlib.pyplot as plt\n",
    "import seaborn as sns\n",
    "%matplotlib inline"
   ]
  },
  {
   "cell_type": "code",
   "execution_count": 2,
   "id": "cdb33bbe",
   "metadata": {},
   "outputs": [],
   "source": [
    "data_n = pd.read_excel('df_romney_msd_neutralization.xlsx',nrows = 1271)"
   ]
  },
  {
   "cell_type": "code",
   "execution_count": 3,
   "id": "7571deba",
   "metadata": {},
   "outputs": [],
   "source": [
    "data_n = pd.read_excel('df_romney_msd_neutralization.xlsx',nrows = 1271)\n",
    "data = data_n[['Study_ID_short','Visit','Result']]\n",
    "data.columns = ['ID','Visit','Result']\n",
    "data_new = data.groupby(['ID','Visit'], as_index = False )['Result'].mean()"
   ]
  },
  {
   "cell_type": "code",
   "execution_count": 4,
   "id": "4db0e793",
   "metadata": {},
   "outputs": [],
   "source": [
    "dataN = pd.DataFrame(columns = ['ID','V1','V2','V3','V4','V5','V6'])\n",
    "dataN['ID'] = data_new['ID'].unique()"
   ]
  },
  {
   "cell_type": "code",
   "execution_count": 5,
   "id": "6ebefb7b",
   "metadata": {},
   "outputs": [],
   "source": [
    "for i in range(len(data_new['ID'])):\n",
    "    dataN.loc[(dataN['ID']==data_new['ID'][i]),'V1'] = data_new.loc[(data_new['Visit']== '2')&(data_new['ID']==data_new['ID'][i])]['Result'].to_string(index=False)\n",
    "    dataN.loc[(dataN['ID']==data_new['ID'][i]),'V2'] = data_new.loc[(data_new['Visit']== '3')&(data_new['ID']==data_new['ID'][i])]['Result'].to_string(index=False)\n",
    "    dataN.loc[(dataN['ID']==data_new['ID'][i]),'V3'] = data_new.loc[(data_new['Visit']== '4')&(data_new['ID']==data_new['ID'][i])]['Result'].to_string(index=False)\n",
    "    dataN.loc[(dataN['ID']==data_new['ID'][i]),'V4'] = data_new.loc[(data_new['Visit']== '5')&(data_new['ID']==data_new['ID'][i])]['Result'].to_string(index=False)\n",
    "    dataN.loc[(dataN['ID']==data_new['ID'][i]),'V5'] = data_new.loc[(data_new['Visit']== 'B1')&(data_new['ID']==data_new['ID'][i])]['Result'].to_string(index=False)\n",
    "    dataN.loc[(dataN['ID']==data_new['ID'][i]),'V6'] = data_new.loc[(data_new['Visit']== 'B2')&(data_new['ID']==data_new['ID'][i])]['Result'].to_string(index=False)\n",
    "      "
   ]
  },
  {
   "cell_type": "code",
   "execution_count": 6,
   "id": "ba8be9f9",
   "metadata": {},
   "outputs": [],
   "source": [
    "dataN = dataN.replace('Series([], )',np.NaN)\n",
    "dataN = dataN.sort_values(by = 'ID')"
   ]
  },
  {
   "cell_type": "code",
   "execution_count": 7,
   "id": "22dd01a8",
   "metadata": {},
   "outputs": [],
   "source": [
    "anti_data = pd.read_csv('all.csv')"
   ]
  },
  {
   "cell_type": "code",
   "execution_count": 8,
   "id": "05d9966e",
   "metadata": {
    "scrolled": true
   },
   "outputs": [],
   "source": [
    "b = anti_data['ID']\n",
    "idx = np.isin(dataN['ID'],b)\n",
    "N = dataN[idx]"
   ]
  },
  {
   "cell_type": "code",
   "execution_count": 9,
   "id": "b5eb70bd",
   "metadata": {},
   "outputs": [],
   "source": [
    "N = dataN[idx]\n",
    "N = N.reset_index(drop = True)"
   ]
  },
  {
   "cell_type": "code",
   "execution_count": 10,
   "id": "dd0dc74b",
   "metadata": {},
   "outputs": [],
   "source": [
    "N['V4'] = np.where(N['V4'] > N['V3'], np.nan, N['V4'])"
   ]
  },
  {
   "cell_type": "code",
   "execution_count": 11,
   "id": "90c04f76",
   "metadata": {},
   "outputs": [],
   "source": [
    "N.insert(loc=7, column='Age', value= 1)\n",
    "N['Age'] = anti_data['Age']\n",
    "N.insert(loc=8, column='Sex', value= 1)\n",
    "N['Sex'] = anti_data['Sex']\n",
    "N.insert(loc=9, column='Type', value= 1)\n",
    "N['Type'] = anti_data['Type']"
   ]
  },
  {
   "cell_type": "code",
   "execution_count": 12,
   "id": "be67616c",
   "metadata": {},
   "outputs": [],
   "source": [
    "N.to_csv('neutralization.csv',index = False)"
   ]
  },
  {
   "cell_type": "code",
   "execution_count": null,
   "id": "b986965b",
   "metadata": {},
   "outputs": [],
   "source": []
  }
 ],
 "metadata": {
  "kernelspec": {
   "display_name": "Python 3 (ipykernel)",
   "language": "python",
   "name": "python3"
  },
  "language_info": {
   "codemirror_mode": {
    "name": "ipython",
    "version": 3
   },
   "file_extension": ".py",
   "mimetype": "text/x-python",
   "name": "python",
   "nbconvert_exporter": "python",
   "pygments_lexer": "ipython3",
   "version": "3.9.12"
  }
 },
 "nbformat": 4,
 "nbformat_minor": 5
}

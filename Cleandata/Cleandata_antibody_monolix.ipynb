{
 "cells": [
  {
   "cell_type": "code",
   "execution_count": 1,
   "id": "a337a48b",
   "metadata": {},
   "outputs": [
    {
     "name": "stderr",
     "output_type": "stream",
     "text": [
      "/Users/dengxiaoyan/opt/anaconda3/lib/python3.9/site-packages/scipy/__init__.py:146: UserWarning: A NumPy version >=1.16.5 and <1.23.0 is required for this version of SciPy (detected version 1.26.4\n",
      "  warnings.warn(f\"A NumPy version >={np_minversion} and <{np_maxversion}\"\n"
     ]
    }
   ],
   "source": [
    "import numpy as np\n",
    "import pandas as pd\n",
    "import matplotlib.pyplot as plt\n",
    "import seaborn as sns\n",
    "%matplotlib inline"
   ]
  },
  {
   "cell_type": "code",
   "execution_count": 2,
   "id": "a6e2045c",
   "metadata": {},
   "outputs": [],
   "source": [
    "data_s = pd.read_excel('df_romney_serology_anti_s.xlsx')\n",
    "data_n = pd.read_excel('df_romney_serology_anti_n.xlsx')\n",
    "\n",
    "age = pd.read_excel('AgeSexData.xlsx')\n",
    "age.columns = ['ID','Type','Sex','Age']\n",
    "#age = age[age['ID']!= 146]\n",
    "age = age[age['ID']!= 114]\n",
    "age = age[age['ID']!= 125]\n",
    "age = age[age['ID']!= 50]#lack of data\n",
    "#age = age[age['ID']!= 79]#outlier : second measure <third measure\n",
    "#age = age[age['ID']!= 49]#outlier : second measure <third measure\n",
    "age = age[age['ID']!= 82]#outlier : extremely good initial dose\n",
    "age = age[age['ID']!= 43]#outlier : only two neutralzation data\n",
    "age = age[age['ID']!= 154]#outlier : too good response\n",
    "age = age[age['ID']!= 134]#outlier : too good response\n",
    "age = age[age['ID']!= 94]#outlier : high antibody but low neutralization\n",
    "age = age[age['ID']!= 77]#outlier : weird neutralization antibody curve\n",
    "antiS = data_s[['Study_ID_short', 'Visit','Result','Results description']]\n",
    "antiS.columns =  ['ID','Visit','Result','Results description']\n",
    "antiS.loc[antiS['Visit']  == 'B1','Visit'] = '6'\n",
    "antiS.loc[antiS['Visit']  == 'B2','Visit'] = '7'\n",
    "antiS.loc[antiS['Visit']  == 'B3','Visit'] = '8'\n",
    "antiS.loc[antiS['Result']  == '>25000','Result'] = '25000'\n",
    "antiS.loc[antiS['Result']  == '<0.4','Result'] = '0.4'\n",
    "#antiS= antiS[antiS['ID']!= 146]\n",
    "antiS= antiS[antiS['ID']!= 2]#outlier\n",
    "antiS= antiS[antiS['ID']!= 114]\n",
    "antiS= antiS[antiS['ID']!= 125]\n",
    "#antiS= antiS[antiS['ID']!= 79]\n",
    "#antiS= antiS[antiS['ID']!= 49]\n",
    "antiS= antiS[antiS['ID']!= 50]\n",
    "antiS= antiS[antiS['ID']!= 82]\n",
    "antiS= antiS[antiS['ID']!= 43]\n",
    "antiS= antiS[antiS['ID']!= 154]\n",
    "antiS= antiS[antiS['ID']!= 134]\n",
    "antiS= antiS[antiS['ID']!= 94]\n",
    "antiS= antiS[antiS['ID']!= 77]\n",
    "antiN = data_n[['Study_ID_short', 'Visit','Results description']]\n",
    "antiN.columns =  ['ID','Visit','Results description']\n",
    "antiN.loc[antiN['Visit']  == 'B1','Visit'] = '6'\n",
    "antiN.loc[antiN['Visit']  == 'B2','Visit'] = '7'\n",
    "antiN.loc[antiN['Visit']  == 'B3','Visit'] = '8'\n",
    "#antiN= antiN[antiN['ID']!= 146]\n",
    "antiS= antiS[antiS['ID']!= 2]#outlier\n",
    "antiN= antiN[antiN['ID']!= 114]\n",
    "antiN= antiN[antiN['ID']!= 125]\n",
    "#antiN= antiN[antiN['ID']!= 49]\n",
    "#antiN= antiN[antiN['ID']!= 79]\n",
    "antiN= antiN[antiN['ID']!= 50]\n",
    "antiN= antiN[antiN['ID']!= 82]\n",
    "antiN= antiN[antiN['ID']!= 43]\n",
    "antiN= antiN[antiN['ID']!= 154]\n",
    "antiN= antiN[antiN['ID']!= 134]\n",
    "antiN= antiN[antiN['ID']!= 94]\n",
    "antiN= antiN[antiN['ID']!= 77]"
   ]
  },
  {
   "cell_type": "code",
   "execution_count": 3,
   "id": "edfaa154",
   "metadata": {
    "scrolled": true
   },
   "outputs": [],
   "source": [
    "spike_total = pd.DataFrame(columns = ['ID','Time','Result','Description_S','Description_N'])\n",
    "spike_total['ID'] = antiS['ID']\n",
    "spike_total['Time'] = antiS['Visit']\n",
    "spike_total['Result'] = antiS['Result']\n",
    "spike_total['Description_S'] = antiS['Results description']\n",
    "spike_total['Description_N'] = antiN['Results description']"
   ]
  },
  {
   "cell_type": "code",
   "execution_count": 4,
   "id": "ca0a8bad",
   "metadata": {},
   "outputs": [],
   "source": [
    "spike_total.loc[spike_total['Time']=='1','Time'] = 0\n",
    "spike_total.loc[spike_total['Time']=='2','Time'] = 30 #30 after 1 dose\n",
    "spike_total.loc[spike_total['Time']=='3','Time'] = 90 #2 months dosing interval and 30 after 2nd dose 2*30+60\n",
    "spike_total.loc[spike_total['Time']=='4','Time'] = 150 #90 after 2nd dose\n",
    "spike_total.loc[spike_total['Time']=='5','Time'] = 240 #+90 180 after 2nd dose\n",
    "spike_total.loc[spike_total['Time']=='6','Time'] = 300 #3rd is 7 months after 2nd dose, 30 days after 3nd dose\n",
    "spike_total.loc[spike_total['Time']=='7','Time'] = 360 #+60 90 after 3rd dose\n",
    "spike_total.loc[spike_total['Time']=='8','Time'] = 450 #+90 180 after 3rd dose"
   ]
  },
  {
   "cell_type": "code",
   "execution_count": 5,
   "id": "90f0b2d6",
   "metadata": {},
   "outputs": [],
   "source": [
    "spike_total['Description_S'] = spike_total['Description_S']\n",
    "spike_total['Description_N'] = spike_total['Description_N']\n"
   ]
  },
  {
   "cell_type": "code",
   "execution_count": 6,
   "id": "cc8d37ec",
   "metadata": {},
   "outputs": [],
   "source": [
    "spike_total.loc[spike_total['Description_N']=='Reactive','Result']=np.NaN\n",
    "ids = spike_total['ID'].unique()\n",
    "age_new = age[age['ID'].isin(ids)]\n",
    "#spike_total.head(10)"
   ]
  },
  {
   "cell_type": "code",
   "execution_count": 7,
   "id": "21cc812d",
   "metadata": {},
   "outputs": [],
   "source": [
    "a =  pd.unique(age_new['ID'])\n",
    "b = np.repeat(a,10)\n",
    "c = np.repeat(age_new['Type'],10)\n",
    "d = np.repeat(age_new['Sex'],10)\n",
    "e = np.repeat(age_new['Age'],10)\n",
    "#f = np.repeat(0, len(b))\n",
    "f = np.full((len(b),),np.nan)\n",
    "dose = pd.DataFrame({'ID':b, 'Amount':(1,0,1,0,0,0,1,0,0,0)*len(a) ,'Time':(0,30,60,90,150,240,270,300,360,450)*len(a),\n",
    "                     'Result':f,'Type':c, 'Sex':d,'Age':e})"
   ]
  },
  {
   "cell_type": "code",
   "execution_count": 8,
   "id": "7a0afc79",
   "metadata": {},
   "outputs": [],
   "source": [
    "for i in range(len(dose)):\n",
    "    a = dose['ID'].iloc[i]\n",
    "    dose.loc[(dose['ID'] == a)&(dose['Time'] == 30),'Result']=spike_total[(spike_total['ID'] == a)&(spike_total['Time'] == 30)]['Result'].to_string(index=False)\n",
    "    dose.loc[(dose['ID'] == a)&(dose['Time'] == 90),'Result']=spike_total[(spike_total['ID'] == a)&(spike_total['Time'] == 90)]['Result'].to_string(index=False)\n",
    "    dose.loc[(dose['ID'] == a)&(dose['Time'] == 150),'Result']=spike_total[(spike_total['ID'] == a)&(spike_total['Time'] == 150)]['Result'].to_string(index=False)\n",
    "    dose.loc[(dose['ID'] == a)&(dose['Time'] == 240),'Result']=spike_total[(spike_total['ID'] == a)&(spike_total['Time'] == 240)]['Result'].to_string(index=False)\n",
    "    dose.loc[(dose['ID'] == a)&(dose['Time'] == 300),'Result']=spike_total[(spike_total['ID'] == a)&(spike_total['Time'] == 300)]['Result'].to_string(index=False)\n",
    "    dose.loc[(dose['ID'] == a)&(dose['Time'] == 360),'Result']=spike_total[(spike_total['ID'] == a)&(spike_total['Time'] == 360)]['Result'].to_string(index=False)\n",
    "    dose.loc[(dose['ID'] == a)&(dose['Time'] == 450),'Result']=spike_total[(spike_total['ID'] == a)&(spike_total['Time'] == 450)]['Result'].to_string(index=False)\n"
   ]
  },
  {
   "cell_type": "code",
   "execution_count": 9,
   "id": "f33b7ece",
   "metadata": {},
   "outputs": [],
   "source": [
    "dose = dose.reset_index()\n",
    "\n",
    "#plt.plot(dose['Time'],dose['Result'])"
   ]
  },
  {
   "cell_type": "code",
   "execution_count": 10,
   "id": "745879d8",
   "metadata": {},
   "outputs": [],
   "source": [
    "dose['Result'] = dose['Result'].astype(float)\n",
    "index1 = dose[(dose['Time']== 30 )&(dose['Result'] > 2000)].index\n",
    "\n",
    "dose.drop(index1,inplace = True)"
   ]
  },
  {
   "cell_type": "code",
   "execution_count": 11,
   "id": "c6396bc8",
   "metadata": {},
   "outputs": [],
   "source": [
    "index2 = dose[(dose['Time']== 150 )&(dose['Result'] > 20000)].index\n",
    "\n",
    "dose.drop(index2,inplace = True)"
   ]
  },
  {
   "cell_type": "code",
   "execution_count": 12,
   "id": "338d382d",
   "metadata": {},
   "outputs": [],
   "source": [
    "index3 = dose[(dose['Amount']== 0)&(np.isnan(dose['Result']))].index\n",
    "dose.drop(index3,inplace = True)\n"
   ]
  },
  {
   "cell_type": "code",
   "execution_count": 13,
   "id": "dcb157fa",
   "metadata": {},
   "outputs": [],
   "source": [
    "a = dose.groupby(by =['ID']).count()\n",
    "idx = a['Result']<5 #drop the ID with less than 5 data points\n",
    "b = a[idx]\n",
    "c = b.index.tolist()\n",
    "dose = dose[~dose['ID'].isin(c)]\n",
    "\n",
    "dose2 = dose[(dose['Time']== 90)|(dose['Time']== 150)|(dose['Time']== 240)]\n",
    "a = dose2.groupby(by =['ID']).count()\n",
    "idx = a['Result']<1 #drop the ID with less than 1 data points\n",
    "b = a[idx]\n",
    "c = b.index.tolist()\n",
    "dose_new1 = dose[~dose['ID'].isin(c)]\n",
    "\n",
    "dose3 = dose[(dose['Time']== 300)|(dose['Time']== 360)|(dose['Time']== 450)]\n",
    "a = dose3.groupby(by =['ID']).count()\n",
    "idx = a['Result']<1 #drop the ID with less than 1 data points\n",
    "b = a[idx]\n",
    "c = b.index.tolist()\n",
    "dose_new = dose_new1[~dose_new1['ID'].isin(c)]\n",
    "\n",
    "dose_new.insert(2,'Censoring', 0)\n",
    "dose_new.loc[(dose['Type']=='HCW')&(dose['Result'] > 20000),'Censoring'] = -1\n",
    "dose_new.loc[(dose['Type']=='SENIOR')&(dose['Result'] == 25000),'Censoring'] = -1\n"
   ]
  },
  {
   "cell_type": "code",
   "execution_count": 14,
   "id": "5978abc7",
   "metadata": {},
   "outputs": [],
   "source": [
    "hcw = dose_new[dose_new['Type']=='HCW']\n",
    "senior = dose_new[dose_new['Type']=='SENIOR']"
   ]
  },
  {
   "cell_type": "code",
   "execution_count": 15,
   "id": "b0ae26d7",
   "metadata": {},
   "outputs": [],
   "source": [
    "hcw = hcw[(hcw['Age']>34)&(hcw['Age']<52)]\n",
    "#senior = senior[(senior['Age']>72)&(senior['Age']<84)]\n",
    "cohort = pd.concat([hcw,senior])"
   ]
  },
  {
   "cell_type": "code",
   "execution_count": 16,
   "id": "e7d2aa72",
   "metadata": {},
   "outputs": [],
   "source": [
    "dose_new = cohort"
   ]
  },
  {
   "cell_type": "code",
   "execution_count": 17,
   "id": "5408e9e6",
   "metadata": {},
   "outputs": [],
   "source": [
    "dose_new = dose_new[['ID','Amount','Censoring','Time','Result','Type','Age','Sex']]"
   ]
  },
  {
   "cell_type": "code",
   "execution_count": 18,
   "id": "6389e649",
   "metadata": {},
   "outputs": [
    {
     "name": "stderr",
     "output_type": "stream",
     "text": [
      "/var/folders/wj/fd0ddm2j4gl8y60hhhv1mpn80000gn/T/ipykernel_19636/1300722039.py:1: SettingWithCopyWarning: \n",
      "A value is trying to be set on a copy of a slice from a DataFrame.\n",
      "Try using .loc[row_indexer,col_indexer] = value instead\n",
      "\n",
      "See the caveats in the documentation: https://pandas.pydata.org/pandas-docs/stable/user_guide/indexing.html#returning-a-view-versus-a-copy\n",
      "  dose_new.loc[(dose_new['Type'] == 'HCW')&(dose_new['Time'] == 270),'Amount']=0.5\n"
     ]
    }
   ],
   "source": [
    "dose_new.loc[(dose_new['Type'] == 'HCW')&(dose_new['Time'] == 270),'Amount']=0.5"
   ]
  },
  {
   "cell_type": "code",
   "execution_count": 19,
   "id": "6d724e08",
   "metadata": {},
   "outputs": [],
   "source": [
    "#plt.plot(dose_new['Time'],dose_new['Result'])"
   ]
  },
  {
   "cell_type": "code",
   "execution_count": 20,
   "id": "37ea48da",
   "metadata": {},
   "outputs": [],
   "source": [
    "dose_data = dose_new[['ID','Amount','Censoring','Age','Time','Result','Type','Sex']]\n",
    "dose_data.to_csv('all_monolix_age.csv', index=False)"
   ]
  },
  {
   "cell_type": "code",
   "execution_count": 21,
   "id": "89bcc5d7",
   "metadata": {},
   "outputs": [],
   "source": [
    "senior= dose_new[dose_new['Type']=='SENIOR']\n",
    "hcw = dose_new[dose_new['Type']=='HCW']\n",
    "senior_data = senior[['ID','Amount','Censoring','Age','Time','Result','Type','Sex']]\n",
    "hcw_data = hcw[['ID','Amount','Censoring','Age','Time','Result','Type','Sex']]\n",
    "\n",
    "senior_data.to_csv('senior_monolix_age.csv', index=False)\n",
    "hcw_data.to_csv('hcw_monolix_age.csv', index=False)"
   ]
  },
  {
   "cell_type": "code",
   "execution_count": null,
   "id": "9c440c5d",
   "metadata": {},
   "outputs": [],
   "source": []
  },
  {
   "cell_type": "code",
   "execution_count": null,
   "id": "3d433090",
   "metadata": {},
   "outputs": [],
   "source": []
  }
 ],
 "metadata": {
  "kernelspec": {
   "display_name": "Python 3 (ipykernel)",
   "language": "python",
   "name": "python3"
  },
  "language_info": {
   "codemirror_mode": {
    "name": "ipython",
    "version": 3
   },
   "file_extension": ".py",
   "mimetype": "text/x-python",
   "name": "python",
   "nbconvert_exporter": "python",
   "pygments_lexer": "ipython3",
   "version": "3.9.12"
  }
 },
 "nbformat": 4,
 "nbformat_minor": 5
}
